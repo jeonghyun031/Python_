{
  "nbformat": 4,
  "nbformat_minor": 0,
  "metadata": {
    "colab": {
      "provenance": [],
      "authorship_tag": "ABX9TyN7W6sWeIlI3t3MlWBXRsXg",
      "include_colab_link": true
    },
    "kernelspec": {
      "name": "python3",
      "display_name": "Python 3"
    },
    "language_info": {
      "name": "python"
    }
  },
  "cells": [
    {
      "cell_type": "markdown",
      "metadata": {
        "id": "view-in-github",
        "colab_type": "text"
      },
      "source": [
        "<a href=\"https://colab.research.google.com/github/jeonghyun031/Python_/blob/main/mutilmedia.ipynb\" target=\"_parent\"><img src=\"https://colab.research.google.com/assets/colab-badge.svg\" alt=\"Open In Colab\"/></a>"
      ]
    },
    {
      "cell_type": "code",
      "execution_count": null,
      "metadata": {
        "colab": {
          "base_uri": "https://localhost:8080/"
        },
        "id": "au_uyQLtrCEW",
        "outputId": "235213b3-9df7-4a23-fda0-edcac5998322"
      },
      "outputs": [
        {
          "name": "stdout",
          "output_type": "stream",
          "text": [
            "입력(Q 입력 시 종료): programming\n",
            "입력(Q 입력 시 종료): i love python\n",
            "입력(Q 입력 시 종료): i love professor\n",
            "입력(Q 입력 시 종료): i love programming\n",
            "입력(Q 입력 시 종료): Q\n"
          ]
        }
      ],
      "source": [
        "#1-1\n",
        "with open(\"prob1-1.txt\", \"w\", encoding=\"utf-8\") as file:\n",
        "    while True:\n",
        "        user_input = input()\n",
        "        if user_input == \"Q\":\n",
        "            break\n",
        "        file.write(user_input + \"\\n\")"
      ]
    },
    {
      "cell_type": "code",
      "source": [
        "#1-2\n",
        "with open(\"prob1-1.txt\", \"r\", encoding=\"utf-8\") as file:\n",
        "    print(\"파일 내용:\")\n",
        "    print(file.read())"
      ],
      "metadata": {
        "colab": {
          "base_uri": "https://localhost:8080/"
        },
        "id": "ihCqm9lnrqrS",
        "outputId": "0916e06f-14da-41f8-ceeb-bf3a9278ab75"
      },
      "execution_count": null,
      "outputs": [
        {
          "output_type": "stream",
          "name": "stdout",
          "text": [
            "파일 내용:\n",
            "programming\n",
            "i love python\n",
            "i love professor\n",
            "i love programming\n",
            "\n"
          ]
        }
      ]
    },
    {
      "cell_type": "code",
      "source": [
        "#1-3\n",
        "with open(\"prob1-1.txt\", \"a\", encoding=\"utf-8\") as file:\n",
        "    user_input = input(\"추가 입력(Q 입력 시 종료): \")\n",
        "    if user_input != \"Q\":\n",
        "        file.write(user_input + \"\\n\")\n",
        "\n",
        "with open(\"prob1-1.txt\", \"r\", encoding=\"utf-8\") as file:\n",
        "    content = file.readlines()\n",
        "\n",
        "with open(\"prob1-2.txt\", \"w\", encoding=\"utf-8\") as file:\n",
        "    file.writelines(content)\n",
        "\n",
        "print(\"prob1-2.txt에 저장된 내용:\")\n",
        "print(\"\".join(content))\n"
      ],
      "metadata": {
        "colab": {
          "base_uri": "https://localhost:8080/"
        },
        "id": "4VgK-fLSsCgL",
        "outputId": "1391d629-5a51-4302-be7a-07532f99d59f"
      },
      "execution_count": null,
      "outputs": [
        {
          "output_type": "stream",
          "name": "stdout",
          "text": [
            "추가 입력(Q 입력 시 종료): Multimdia systems\n",
            "prob1-2.txt에 저장된 내용:\n",
            "programming\n",
            "i love python\n",
            "i love professor\n",
            "i love programming\n",
            "Multimdia systems\n",
            "\n"
          ]
        }
      ]
    },
    {
      "cell_type": "code",
      "source": [
        "#2-1\n",
        "import pickle\n",
        "\n",
        "dic = {\"dictionary\": \"사전\",\"python\": \"파이썬\",\n",
        "    \"zoo\": \"동물원\",\"School\": \"학교\",\"University\": \"대학교\"}\n",
        "\n",
        "with open(\"prob2-1.bat\", \"wb\") as file:\n",
        "    pickle.dump(dic, file)\n",
        "\n",
        "with open(\"prob2-1.bat\", \"rb\") as file:\n",
        "    loaded_dic = pickle.load(file)\n",
        "    for key, value in loaded_dic.items():\n",
        "        print(f\"{key}: {value}\")"
      ],
      "metadata": {
        "colab": {
          "base_uri": "https://localhost:8080/"
        },
        "id": "vQW86k1ksiLx",
        "outputId": "b0478994-a21b-459b-ede0-80a91ed6f815"
      },
      "execution_count": null,
      "outputs": [
        {
          "output_type": "stream",
          "name": "stdout",
          "text": [
            "dictionary: 사전\n",
            "python: 파이썬\n",
            "zoo: 동물원\n",
            "School: 학교\n",
            "University: 대학교\n"
          ]
        }
      ]
    },
    {
      "cell_type": "code",
      "source": [
        "#2-2\n",
        "with open(\"prob2-1.bat\", \"rb\") as file:\n",
        "    dic = pickle.load(file)\n",
        "\n",
        "search = input(\"Enter the word to search: \")\n",
        "\n",
        "try:\n",
        "    print(f\"The meaning of '{search}' you searched for is: '{loaded_dic[search]}'\")\n",
        "except KeyError:\n",
        "    print(f\"'{search}' is a word that does not exist\")\n"
      ],
      "metadata": {
        "colab": {
          "base_uri": "https://localhost:8080/"
        },
        "id": "7ia-49Q2sewo",
        "outputId": "e31ff8b6-3cf3-4a4b-b405-d40d3cb840ce"
      },
      "execution_count": null,
      "outputs": [
        {
          "output_type": "stream",
          "name": "stdout",
          "text": [
            "Enter the word to search: java\n",
            "'java' is a word that does not exist\n"
          ]
        }
      ]
    },
    {
      "cell_type": "code",
      "source": [
        "#2-3\n",
        "import pickle\n",
        "\n",
        "with open(\"prob2-1.bat\", \"rb\") as file:\n",
        "    dic = pickle.load(file)\n",
        "\n",
        "dic['python'] = '자바'\n",
        "\n",
        "with open(\"prob2-1.bat\", \"wb\") as file:\n",
        "    pickle.dump(dic, file)\n",
        "\n",
        "print(dic)\n"
      ],
      "metadata": {
        "colab": {
          "base_uri": "https://localhost:8080/"
        },
        "id": "Flg-Hrt6tKWL",
        "outputId": "b5111737-ea4e-4914-b519-cb654f06f403"
      },
      "execution_count": null,
      "outputs": [
        {
          "output_type": "stream",
          "name": "stdout",
          "text": [
            "{'dictionary': '사전', 'python': '자바', 'zoo': '동물원', 'School': '학교', 'University': '대학교'}\n"
          ]
        }
      ]
    },
    {
      "cell_type": "code",
      "source": [
        "#3-1\n",
        "import pickle\n",
        "import os\n",
        "import uuid\n",
        "\n",
        "FILENAME = \"media_data.pkl\"\n",
        "\n",
        "def load_data():\n",
        "    if os.path.exists(FILENAME):\n",
        "        try:\n",
        "            with open(FILENAME, \"rb\") as f:\n",
        "                return pickle.load(f)\n",
        "        except (EOFError, pickle.UnpicklingError):\n",
        "            return {}\n",
        "    return {}\n",
        "\n",
        "def save_data(data):\n",
        "    try:\n",
        "        with open(FILENAME, \"wb\") as f:\n",
        "            pickle.dump(data, f)\n",
        "    except Exception:\n",
        "        pass\n",
        "\n",
        "def generate_unique_id(existing_ids):\n",
        "    while True:\n",
        "        new_id = f\"auto_{uuid.uuid4().hex[:8]}\"\n",
        "        if new_id not in existing_ids:\n",
        "            return new_id\n",
        "\n",
        "def add_media_entry(media_data):\n",
        "    print(\"멀티미디어 태그 관리 시스템\")\n",
        "    print(\"1. 콘텐츠 등록\")\n",
        "    print(\"2. 종료\")\n",
        "\n",
        "    choice = input(\"메뉴 선택 (1~2): \").strip()\n",
        "    if choice != \"1\":\n",
        "        print(\"프로그램을 종료합니다.\")\n",
        "        return\n",
        "\n",
        "    media_id = input(\"콘텐츠 ID 입력: \").strip()\n",
        "    if not media_id or media_id in media_data:\n",
        "        media_id = generate_unique_id(media_data)\n",
        "\n",
        "    title = input(\"제목 입력: \").strip()\n",
        "    if not title:\n",
        "        title = \"Untitled\"\n",
        "\n",
        "    media_type = input(\"타입 (image/video/audio): \").strip().lower()\n",
        "    if media_type not in [\"image\", \"video\", \"audio\"]:\n",
        "        media_type = \"image\"\n",
        "\n",
        "    tags = input(\"태그 입력 (쉼표 구분): \").strip()\n",
        "    tag_list = [tag.strip() for tag in tags.split(\",\")] if tags else [\"default_tag\"]\n",
        "\n",
        "    media_data[media_id] = {\n",
        "        \"title\": title,\n",
        "        \"type\": media_type,\n",
        "        \"tags\": tag_list\n",
        "    }\n",
        "\n",
        "    save_data(media_data)\n",
        "    print(\"데이터가 저장되었습니다.\")\n",
        "\n",
        "if __name__ == \"__main__\":\n",
        "    media_data = load_data()\n",
        "    add_media_entry(media_data)\n"
      ],
      "metadata": {
        "colab": {
          "base_uri": "https://localhost:8080/"
        },
        "id": "NcOhdyVxuEcY",
        "outputId": "ab2db758-d0ba-4c4b-bbff-21820589a242"
      },
      "execution_count": 3,
      "outputs": [
        {
          "output_type": "stream",
          "name": "stdout",
          "text": [
            "멀티미디어 태그 관리 시스템\n",
            "1. 콘텐츠 등록\n",
            "2. 종료\n",
            "메뉴 선택 (1~2): 1\n",
            "콘텐츠 ID 입력: test\n",
            "제목 입력: test3\n",
            "타입 (image/video/audio): image\n",
            "태그 입력 (쉼표 구분): test_1\n",
            "데이터가 저장되었습니다.\n"
          ]
        }
      ]
    },
    {
      "cell_type": "code",
      "source": [
        "#3-2\n",
        "import pickle\n",
        "import os\n",
        "import uuid\n",
        "\n",
        "FILENAME = \"media_data.pkl\"\n",
        "\n",
        "def load_data():\n",
        "    if os.path.exists(FILENAME):\n",
        "        try:\n",
        "            with open(FILENAME, \"rb\") as f:\n",
        "                return pickle.load(f)\n",
        "        except (EOFError, pickle.UnpicklingError):\n",
        "            return {}\n",
        "    return {}\n",
        "\n",
        "def save_data(data):\n",
        "    try:\n",
        "        with open(FILENAME, \"wb\") as f:\n",
        "            pickle.dump(data, f)\n",
        "    except Exception:\n",
        "        pass\n",
        "\n",
        "def generate_unique_id(existing_ids):\n",
        "    while True:\n",
        "        new_id = f\"auto_{uuid.uuid4().hex[:8]}\"\n",
        "        if new_id not in existing_ids:\n",
        "            return new_id\n",
        "\n",
        "def add_media_entry(media_data):\n",
        "    media_id = input(\"\\n콘텐츠 ID 입력: \").strip()\n",
        "    if not media_id or media_id in media_data:\n",
        "        media_id = generate_unique_id(media_data)\n",
        "\n",
        "    title = input(\"제목 입력: \").strip()\n",
        "    if not title:\n",
        "        title = \"Untitled\"\n",
        "\n",
        "    media_type = input(\"타입 (image/video/audio): \").strip().lower()\n",
        "    if media_type not in [\"image\", \"video\", \"audio\"]:\n",
        "        media_type = \"image\"\n",
        "\n",
        "    tags = input(\"태그 입력 (쉼표 구분): \").strip()\n",
        "    tag_list = [tag.strip() for tag in tags.split(\",\")] if tags else [\"default_tag\"]\n",
        "\n",
        "    media_data[media_id] = {\n",
        "        \"title\": title,\n",
        "        \"type\": media_type,\n",
        "        \"tags\": tag_list\n",
        "    }\n",
        "\n",
        "    save_data(media_data)\n",
        "    print(\"\\n데이터가 저장되었습니다.\")\n",
        "\n",
        "def search_by_tag(media_data):\n",
        "    search_tag = input(\"\\n검색할 태그 입력: \").strip().lower()\n",
        "    results = [\n",
        "        f\"- ID: {mid}, 제목: {data['title']}, 타입: {data['type']}, 태그: {data['tags']}\"\n",
        "        for mid, data in media_data.items()\n",
        "        if any(tag.lower() == search_tag for tag in data[\"tags\"])\n",
        "    ]\n",
        "    print(\"\\n\".join(results) if results else \"\\n- 검색 결과가 없습니다.\")\n",
        "\n",
        "def edit_tags(media_data):\n",
        "    media_id = input(\"\\n태그를 수정할 콘텐츠 ID 입력: \").strip()\n",
        "    if media_id not in media_data:\n",
        "        print(\"\\n- 해당 ID의 콘텐츠를 찾을 수 없습니다.\")\n",
        "        return\n",
        "\n",
        "    new_tags = input(\"새로운 태그 입력 (쉼표 구분): \").strip()\n",
        "    media_data[media_id][\"tags\"] = [tag.strip() for tag in new_tags.split(\",\")] if new_tags else []\n",
        "\n",
        "    save_data(media_data)\n",
        "    print(\"\\n태그가 수정되었습니다.\")\n",
        "\n",
        "def main():\n",
        "    media_data = load_data()\n",
        "\n",
        "    while True:\n",
        "        print(\"\\n멀티미디어 태그 관리 시스템\")\n",
        "        print(\"1. 콘텐츠 등록\")\n",
        "        print(\"2. 태그로 검색\")\n",
        "        print(\"3. 콘텐츠 태그 수정\")\n",
        "        print(\"4. 종료\")\n",
        "\n",
        "        choice = input(\"\\n메뉴 선택 (1~4): \").strip()\n",
        "\n",
        "        if choice == \"1\":\n",
        "            add_media_entry(media_data)\n",
        "        elif choice == \"2\":\n",
        "            search_by_tag(media_data)\n",
        "        elif choice == \"3\":\n",
        "            edit_tags(media_data)\n",
        "        elif choice == \"4\":\n",
        "            print(\"\\n프로그램을 종료합니다.\")\n",
        "            break\n",
        "\n",
        "if __name__ == \"__main__\":\n",
        "    main()"
      ],
      "metadata": {
        "colab": {
          "base_uri": "https://localhost:8080/"
        },
        "id": "XUOw3Q7ywuSj",
        "outputId": "282ab195-2aee-4395-ebab-59863bd6f88f"
      },
      "execution_count": 4,
      "outputs": [
        {
          "output_type": "stream",
          "name": "stdout",
          "text": [
            "\n",
            "멀티미디어 태그 관리 시스템\n",
            "1. 콘텐츠 등록\n",
            "2. 태그로 검색\n",
            "3. 콘텐츠 태그 수정\n",
            "4. 종료\n",
            "\n",
            "메뉴 선택 (1~4): 3\n",
            "\n",
            "태그를 수정할 콘텐츠 ID 입력: test\n",
            "새로운 태그 입력 (쉼표 구분): test_modify3\n",
            "\n",
            "태그가 수정되었습니다.\n",
            "\n",
            "멀티미디어 태그 관리 시스템\n",
            "1. 콘텐츠 등록\n",
            "2. 태그로 검색\n",
            "3. 콘텐츠 태그 수정\n",
            "4. 종료\n",
            "\n",
            "메뉴 선택 (1~4): 4\n",
            "\n",
            "프로그램을 종료합니다.\n"
          ]
        }
      ]
    },
    {
      "cell_type": "code",
      "source": [
        "#3-3\n",
        "import pickle\n",
        "import os\n",
        "import uuid\n",
        "import shutil\n",
        "\n",
        "FILENAME = \"media_data.pkl\"\n",
        "BACKUP_FILENAME = \"media_data_backup.pkl\"\n",
        "\n",
        "def load_data():\n",
        "    if os.path.exists(FILENAME):\n",
        "        try:\n",
        "            with open(FILENAME, \"rb\") as f:\n",
        "                return pickle.load(f)\n",
        "        except (EOFError, pickle.UnpicklingError):\n",
        "            return {}\n",
        "    return {}\n",
        "\n",
        "def save_data(data):\n",
        "    try:\n",
        "        if os.path.exists(FILENAME):\n",
        "            shutil.copy(FILENAME, BACKUP_FILENAME)  # 기존 파일 백업\n",
        "        with open(FILENAME, \"wb\") as f:\n",
        "            pickle.dump(data, f)\n",
        "    except Exception as e:\n",
        "        print(f\"데이터 저장 중 오류 발생: {e}\")\n",
        "\n",
        "def generate_unique_id(existing_ids):\n",
        "    while True:\n",
        "        new_id = f\"auto_{uuid.uuid4().hex[:8]}\"\n",
        "        if new_id not in existing_ids:\n",
        "            return new_id\n",
        "\n",
        "def display_all_media(media_data):\n",
        "    print(\"\\n전체 콘텐츠 목록:\")\n",
        "    if not media_data:\n",
        "        print(\"저장된 콘텐츠가 없습니다.\")\n",
        "        return\n",
        "\n",
        "    for media_id, media_info in media_data.items():\n",
        "        print(f\"- ID: {media_id}, 제목: {media_info['title']}, 타입: {media_info['type']}, 태그: {media_info['tags']}\")\n",
        "\n",
        "def search_by_tag(media_data):\n",
        "    search_tag = input(\"\\n검색할 태그 입력: \").strip().lower()\n",
        "    results = [\n",
        "        f\"- ID: {mid}, 제목: {data['title']}, 타입: {data['type']}, 태그: {data['tags']}\"\n",
        "        for mid, data in media_data.items()\n",
        "        if any(tag.lower() == search_tag for tag in data[\"tags\"])\n",
        "    ]\n",
        "    print(\"\\n\".join(results) if results else \"\\n- 검색 결과가 없습니다.\")\n",
        "\n",
        "def edit_tags(media_data):\n",
        "    media_id = input(\"\\n태그를 수정할 콘텐츠 ID 입력: \").strip()\n",
        "    if media_id not in media_data:\n",
        "        print(\"\\n- 해당 ID의 콘텐츠를 찾을 수 없습니다.\")\n",
        "        return\n",
        "\n",
        "    new_tags = input(\"새로운 태그 입력 (쉼표 구분): \").strip()\n",
        "    media_data[media_id][\"tags\"] = [tag.strip() for tag in new_tags.split(\",\")] if new_tags else []\n",
        "\n",
        "    save_data(media_data)\n",
        "    print(\"\\n태그가 수정되었습니다.\")\n",
        "\n",
        "def add_media_entry(media_data):\n",
        "    media_id = input(\"\\n콘텐츠 ID 입력: \").strip()\n",
        "    if not media_id or media_id in media_data:\n",
        "        media_id = generate_unique_id(media_data)\n",
        "\n",
        "    title = input(\"제목 입력: \").strip()\n",
        "    if not title:\n",
        "        title = \"Untitled\"\n",
        "\n",
        "    media_type = input(\"타입 (image/video/audio): \").strip().lower()\n",
        "    if media_type not in [\"image\", \"video\", \"audio\"]:\n",
        "        media_type = \"image\"\n",
        "\n",
        "    tags = input(\"태그 입력 (쉼표 구분): \").strip()\n",
        "    tag_list = [tag.strip() for tag in tags.split(\",\")] if tags else [\"default_tag\"]\n",
        "\n",
        "    media_data[media_id] = {\n",
        "        \"title\": title,\n",
        "        \"type\": media_type,\n",
        "        \"tags\": tag_list\n",
        "    }\n",
        "\n",
        "    save_data(media_data)\n",
        "    print(\"\\n데이터가 저장되었습니다.\")\n",
        "\n",
        "def main():\n",
        "    media_data = load_data()\n",
        "    while True:\n",
        "        print(\"\\n멀티미디어 태그 관리 시스템\")\n",
        "        print(\"1. 콘텐츠 등록\")\n",
        "        print(\"2. 태그로 검색\")\n",
        "        print(\"3. 콘텐츠 태그 수정\")\n",
        "        print(\"4. 전체 콘텐츠 보기\")\n",
        "        print(\"5. 종료\")\n",
        "\n",
        "        choice = input(\"\\n메뉴 선택 (1~5): \").strip()\n",
        "\n",
        "        if choice == \"1\":\n",
        "            add_media_entry(media_data)\n",
        "        elif choice == \"2\":\n",
        "            search_by_tag(media_data)\n",
        "        elif choice == \"3\":\n",
        "            edit_tags(media_data)\n",
        "        elif choice == \"4\":\n",
        "            display_all_media(media_data)\n",
        "        elif choice == \"5\":\n",
        "            print(\"\\n프로그램을 종료합니다.\")\n",
        "            break\n",
        "        else:\n",
        "            print(\"\\n잘못된 입력입니다. 다시 선택해주세요.\")\n",
        "\n",
        "if __name__ == \"__main__\":\n",
        "    main()\n"
      ],
      "metadata": {
        "colab": {
          "base_uri": "https://localhost:8080/"
        },
        "id": "zf0BdrbYsCVR",
        "outputId": "a29de7ee-3098-4f7a-d360-a0d58e665643"
      },
      "execution_count": 12,
      "outputs": [
        {
          "output_type": "stream",
          "name": "stdout",
          "text": [
            "\n",
            "멀티미디어 태그 관리 시스템\n",
            "1. 콘텐츠 등록\n",
            "2. 태그로 검색\n",
            "3. 콘텐츠 태그 수정\n",
            "4. 전체 콘텐츠 보기\n",
            "5. 종료\n",
            "\n",
            "메뉴 선택 (1~5): 5\n",
            "\n",
            "프로그램을 종료합니다.\n"
          ]
        }
      ]
    }
  ]
}